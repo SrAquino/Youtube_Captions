{
 "cells": [
  {
   "cell_type": "markdown",
   "metadata": {},
   "source": [
    "#### Normaliza o texto [transcrições]"
   ]
  },
  {
   "cell_type": "code",
   "execution_count": null,
   "metadata": {},
   "outputs": [],
   "source": [
    "from Funcs.tratamentoDeTexto import normalize_text\n",
    "from Funcs.getPaths import get_Paths\n",
    "from Funcs.db import get_languange, get_data, update_data\n",
    "\n",
    "from Funcs.db import new_collumn\n",
    "new_collumn('videos_data.db','transcribes','transcription_normalizado','TEXT')\n",
    "\n",
    "paths = get_Paths('Videos')\n",
    "for path in paths:\n",
    "    id = path.split(\"\\\\\")[-1]\n",
    "    normal = normalize_text(get_data('videos_data.db','transcribes','transcription',id)[0][1],get_languange('videos_data.db','links',id)[0])\n",
    "    update_data('videos_data.db','transcribes','transcription_normalizado',id,normal)\n"
   ]
  },
  {
   "cell_type": "markdown",
   "metadata": {},
   "source": [
    "#### Normaliza o texto [captions]"
   ]
  },
  {
   "cell_type": "code",
   "execution_count": null,
   "metadata": {},
   "outputs": [],
   "source": [
    "from Funcs.tratamentoDeTexto import normalize_text\n",
    "from Funcs.getPaths import get_Paths\n",
    "from Funcs.db import get_data, update_data\n",
    "\n",
    "from Funcs.db import new_collumn\n",
    "new_collumn('videos_data.db','captions','captions_normalizado','TEXT')\n",
    "\n",
    "paths = get_Paths('Videos')\n",
    "for path in paths:\n",
    "    id = path.split(\"\\\\\")[-1]\n",
    "    frames = get_data('videos_data.db','captions','caption',id)\n",
    "    for frame in frames:\n",
    "        #print('id: '+frame[0])\n",
    "        #print('caption: '+frame[1])\n",
    "        normal = normalize_text(frame[1],'en')\n",
    "        update_data('videos_data.db','captions','captions_normalizado',frame[0],normal)\n",
    "    \n",
    "\n",
    "\n",
    "\n",
    "\n"
   ]
  },
  {
   "cell_type": "markdown",
   "metadata": {},
   "source": [
    "#### Vetorizar [captions]"
   ]
  },
  {
   "cell_type": "code",
   "execution_count": null,
   "metadata": {},
   "outputs": [],
   "source": [
    "# Adicionar todas as strings em uma única variável\n",
    "\n",
    "from Funcs.db import get_data, push_data\n",
    "from Funcs.getPaths import get_Paths\n",
    "from sklearn.feature_extraction.text import TfidfVectorizer\n",
    "import json\n",
    "\n",
    "#all_captionsNids = []\n",
    "ids = []\n",
    "textos = []\n",
    "paths = get_Paths('Videos')\n",
    "for path in paths:\n",
    "    id = path.split(\"\\\\\")[-1]   # Videos\\\\<id>\n",
    "    \n",
    "    frames_with_id = get_data('videos_data.db','captions','captions_normalizado',id)    # Retorna um conjunto de frames do video <id> o id do frame + a caption normalizada \n",
    "    aux_ids, aux_captions = zip(*frames_with_id)\n",
    "\n",
    "    ids.extend(aux_ids)\n",
    "    textos.extend(aux_captions)\n",
    "\n",
    "\n",
    "vectorizer = TfidfVectorizer()\n",
    "vetores = vectorizer.fit_transform(textos)\n",
    "\n",
    "data_to_save = []\n",
    "for idx, id_ in enumerate(ids):\n",
    "    vector_data = vetores[idx].tocoo()\n",
    "\n",
    "    vector_elements = [\n",
    "        ((int(idx), int(col)), float(data))\n",
    "        for (row, col), data in zip(zip(vector_data.row, vector_data.col), vector_data.data)\n",
    "    ]\n",
    "    data_to_save.append({\n",
    "        'id': id_,\n",
    "        'vector': vector_elements\n",
    "    })\n",
    "\n",
    "for item in data_to_save:\n",
    "    video_id = item['id'].split(\"_\")[0]\n",
    "    vector_json = json.dumps(item['vector'])\n",
    "    push_data('videos_data.db', 'textos_vetorizados', 'vetor', item['id'], vector_json, video_id)"
   ]
  },
  {
   "cell_type": "markdown",
   "metadata": {},
   "source": [
    "#### Vetorizar [transcrições]"
   ]
  },
  {
   "cell_type": "code",
   "execution_count": 5,
   "metadata": {},
   "outputs": [],
   "source": [
    "# Adicionar todas as strings em uma única variável\n",
    "\n",
    "from Funcs.db import get_data, push_data\n",
    "from Funcs.getPaths import get_Paths\n",
    "from sklearn.feature_extraction.text import TfidfVectorizer\n",
    "import json\n",
    "\n",
    "\n",
    "#all_captionsNids = []\n",
    "ids = []\n",
    "textos = []\n",
    "paths = get_Paths('Videos')\n",
    "for path in paths:\n",
    "    id = path.split(\"\\\\\")[-1]   # Videos\\\\<id>\n",
    "    \n",
    "    trancript_with_id = get_data('videos_data.db','transcribes','transcription_normalizado',id)    # Retorna um conjunto de transcrições com id\n",
    "    aux_ids, aux_transcript = zip(*trancript_with_id)\n",
    "\n",
    "    ids.append(aux_ids[0])\n",
    "    textos.append(aux_transcript[0])\n",
    "\n",
    "vectorizer = TfidfVectorizer()\n",
    "vetores = vectorizer.fit_transform(textos)\n",
    "\n",
    "data_to_save = []\n",
    "for idx, id_ in enumerate(ids):\n",
    "    vector_data = vetores[idx].tocoo()\n",
    "    vector_elements = [\n",
    "        ((int(idx), int(col)), float(data))\n",
    "        for (row, col), data in zip(zip(vector_data.row, vector_data.col), vector_data.data)\n",
    "    ]\n",
    "    data_to_save.append({\n",
    "        'id': id_,\n",
    "        'vector': vector_elements\n",
    "    })\n",
    "\n",
    "\n",
    "for item in data_to_save:\n",
    "    vector_json = json.dumps(item['vector'])\n",
    "    #push_data('videos_data.db', 'transcriptions_vetorizados', 'vetor', item['id'], vector_json, item['id'])\n",
    "\n",
    "    \n",
    "   "
   ]
  }
 ],
 "metadata": {
  "kernelspec": {
   "display_name": ".venv",
   "language": "python",
   "name": "python3"
  },
  "language_info": {
   "codemirror_mode": {
    "name": "ipython",
    "version": 3
   },
   "file_extension": ".py",
   "mimetype": "text/x-python",
   "name": "python",
   "nbconvert_exporter": "python",
   "pygments_lexer": "ipython3",
   "version": "3.11.3"
  }
 },
 "nbformat": 4,
 "nbformat_minor": 2
}
