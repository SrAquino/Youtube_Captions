{
 "cells": [
  {
   "cell_type": "code",
   "execution_count": 1,
   "metadata": {},
   "outputs": [],
   "source": [
    "import sys\n",
    "import os\n",
    "import pandas as pd\n",
    "from sklearn.cluster import KMeans\n",
    "import matplotlib.pyplot as plt\n",
    "\n",
    "# Adicionar o diretório 'database' ao path\n",
    "sys.path.append(os.path.abspath(os.path.join(os.getcwd(), '../Banco_de_dados')))\n",
    "from db import *\n",
    "\n",
    "sys.path.append(os.path.abspath(os.path.join(os.getcwd(), '../Funcs_principais')))\n",
    "from arquivo import save_clusters\n"
   ]
  },
  {
   "cell_type": "markdown",
   "metadata": {},
   "source": [
    "#### Recupera os likes e views do BD, calcula engajamento e clusteriza"
   ]
  },
  {
   "cell_type": "code",
   "execution_count": null,
   "metadata": {},
   "outputs": [],
   "source": [
    "\n",
    "\n",
    "data = get_all_data(\"../Banco_de_dados/videos_data.db\",\"links\",\"likes\",\"views\")\n",
    "\n",
    "# Criar DataFrame\n",
    "df = pd.DataFrame(data, columns=[\"ID\", \"likes\", \"views\"])\n",
    "\n",
    "# Calcular Engajamento (likes/views)\n",
    "df['engajamento'] = df['likes'] / df['views']\n",
    "\n",
    "# Converter para formato numérico para clustering\n",
    "X = df[['engajamento']].values\n",
    "\n",
    "# Aplicar K-Means com x clusters\n",
    "kmeans = KMeans(n_clusters=5, random_state=43, n_init=10)\n",
    "df['cluster'] = kmeans.fit_predict(X)\n",
    "\n",
    "cluster_means = df.groupby('cluster')['engajamento'].mean().sort_values()\n",
    "# Criar um mapeamento antigo → novo\n",
    "cluster_mapping = {old_label: new_label for new_label, old_label in enumerate(cluster_means.index)}\n",
    "df['cluster_ordenado'] = df['cluster'].map(cluster_mapping)\n",
    "\n",
    "\n",
    "# Visualizar os resultados\n",
    "plt.scatter(df['engajamento'], df['cluster_ordenado'], cmap='viridis', edgecolors='k')\n",
    "plt.xlabel('Engajamento')\n",
    "plt.ylabel('Cluster')\n",
    "plt.title('Clusterização de Vídeos por Engajamento')\n",
    "plt.show()\n"
   ]
  },
  {
   "cell_type": "code",
   "execution_count": null,
   "metadata": {},
   "outputs": [],
   "source": [
    "push_many_data(\"../Banco_de_dados/videos_data.db\", \"video_clusters\", \"cluster_engage\",df[[\"ID\", \"cluster_ordenado\"]].values.tolist())\n",
    "save_clusters(df, \"engage_clusters\")"
   ]
  },
  {
   "cell_type": "markdown",
   "metadata": {},
   "source": [
    "#### Recupera as transcrições do BD e clusteriza"
   ]
  },
  {
   "cell_type": "code",
   "execution_count": null,
   "metadata": {},
   "outputs": [],
   "source": [
    "from sklearn.feature_extraction.text import TfidfVectorizer\n",
    "\n",
    "data = get_all_data(\"../Banco_de_dados/videos_data.db\",\"transcripts\",\"transcription_normalizado\")\n",
    "\n",
    "# Criar DataFrame\n",
    "df = pd.DataFrame(data, columns=[\"ID\", \"transcription\"])\n",
    "\n",
    "df_filtered = df[df['transcription'] != '']\n",
    "df_sem_transcription = df[df['transcription'] == '']\n",
    "\n",
    "df_sem_transcription['cluster'] = -1\n",
    "\n",
    "vectorizer = TfidfVectorizer()\n",
    "X = vectorizer.fit_transform(df_filtered['transcription'])\n",
    "\n",
    "kmeans = KMeans(n_clusters=5, random_state=43)  # Ajuste o número de clusters conforme necessário\n",
    "df_filtered['cluster'] = kmeans.fit_predict(X)\n",
    "\n",
    "df_final = pd.concat([df_sem_transcription, df_filtered], ignore_index=True)\n",
    "\n",
    "# Salvando cada cluster em um arquivo CSV\n",
    "save_clusters(df_final, \"transcriptions_clusters\")\n",
    "push_many_data(\"../Banco_de_dados/videos_data.db\", \"video_clusters\", \"cluster_transcript\",df_final[[\"ID\", \"cluster\"]].values.tolist())\n"
   ]
  },
  {
   "cell_type": "markdown",
   "metadata": {},
   "source": [
    "#### Recupera as captions, agrupa por video e clusteriza"
   ]
  },
  {
   "cell_type": "code",
   "execution_count": null,
   "metadata": {},
   "outputs": [],
   "source": [
    "from sklearn.feature_extraction.text import TfidfVectorizer\n",
    "import string\n",
    "\n",
    "data = get_all_data(\"../Banco_de_dados/videos_data.db\",\"captions\",\"captions_normalizado\",\"VideoID\")\n",
    "\n",
    "# Criar DataFrame\n",
    "df = pd.DataFrame(data, columns=[\"ID\", \"captions\", \"VideoID\"])\n",
    "\n",
    "# Agrupar os frames por vídeo\n",
    "grouped_frames = df.groupby(\"VideoID\")[\"captions\"].apply(list).reset_index()\n",
    "\n",
    "# Join the captions for each video into a single string\n",
    "grouped_frames['captions'] = grouped_frames['captions'].apply(lambda x: ' '.join(x))\n",
    "\n",
    "vectorizer = TfidfVectorizer()\n",
    "X = vectorizer.fit_transform(grouped_frames['captions'])\n",
    "\n",
    "kmeans = KMeans(n_clusters=5, random_state=43)  # Ajuste o número de clusters conforme necessário\n",
    "grouped_frames['cluster'] = kmeans.fit_predict(X)\n",
    "\n",
    "# Criar um mapeamento de números para letras (A, B, C, ...)\n",
    "cluster_labels = {new_label: letter for new_label, letter in enumerate(string.ascii_uppercase)}\n",
    "\n",
    "# Aplicar o mapeamento\n",
    "grouped_frames['cluster_letra'] = grouped_frames['cluster'].map(cluster_labels)\n",
    "\n",
    "print(grouped_frames['cluster_letra'])  # Ver o mapeamento feito\n",
    "\n",
    "\n"
   ]
  },
  {
   "cell_type": "code",
   "execution_count": null,
   "metadata": {},
   "outputs": [],
   "source": [
    "# Salvando cada cluster em um arquivo CSV\n",
    "save_clusters(grouped_frames, \"captions_clusters\")\n",
    "\n",
    "push_many_data(\"../Banco_de_dados/videos_data.db\", \"video_clusters\", \"cluster_caption\",grouped_frames[[\"VideoID\", \"cluster_letra\"]].values.tolist())"
   ]
  },
  {
   "cell_type": "markdown",
   "metadata": {},
   "source": [
    "#### Clusterização global"
   ]
  },
  {
   "cell_type": "code",
   "execution_count": null,
   "metadata": {},
   "outputs": [],
   "source": [
    "from kmodes.kmodes import KModes\n",
    "import matplotlib.pyplot as plt\n",
    "import pandas as pd\n",
    "\n",
    "data = get_all_data(\"../Banco_de_dados/videos_data.db\",\"video_clusters\",\"cluster_engage\",\"cluster_transcript\",\"cluster_caption\")\n",
    "\n",
    "df = pd.DataFrame(data, columns=[\"ID\", \"cluster_engage\", \"cluster_transcript\", \"cluster_caption\"])\n",
    "\n",
    "# Definir número de clusters\n",
    "n_clusters = 9\n",
    "km = KModes(n_clusters=n_clusters, init='Huang', random_state=42)\n",
    "\n",
    "# Aplicar o modelo aos clusters existentes\n",
    "df[\"cluster\"] = km.fit_predict(df[[\"cluster_engage\", \"cluster_transcript\", \"cluster_caption\"]])\n",
    "\n",
    "\n"
   ]
  },
  {
   "cell_type": "code",
   "execution_count": null,
   "metadata": {},
   "outputs": [],
   "source": [
    "save_clusters(df, \"global_cluster\")\n",
    "push_many_data(\"../Banco_de_dados/videos_data.db\", \"video_clusters\", \"cluster_global\",df[[\"ID\", \"cluster\"]].values.tolist())"
   ]
  },
  {
   "cell_type": "code",
   "execution_count": null,
   "metadata": {},
   "outputs": [],
   "source": [
    "plt.figure(figsize=(10, 6))\n",
    "plt.scatter(df['cluster_engage'], df['cluster'], c=df['cluster_engage'], cmap='viridis', edgecolors='k')\n",
    "plt.xlabel('Cluster de Engajamento')\n",
    "plt.ylabel('Cluster Final dos Vídeos')\n",
    "plt.title('Distribuição dos Vídeos nos Clusters')\n",
    "plt.colorbar(label='Cluster de Engajamento')\n",
    "plt.show()"
   ]
  }
 ],
 "metadata": {
  "kernelspec": {
   "display_name": ".venv",
   "language": "python",
   "name": "python3"
  },
  "language_info": {
   "codemirror_mode": {
    "name": "ipython",
    "version": 3
   },
   "file_extension": ".py",
   "mimetype": "text/x-python",
   "name": "python",
   "nbconvert_exporter": "python",
   "pygments_lexer": "ipython3",
   "version": "3.11.3"
  }
 },
 "nbformat": 4,
 "nbformat_minor": 2
}
