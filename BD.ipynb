{
 "cells": [
  {
   "cell_type": "markdown",
   "metadata": {},
   "source": [
    "#### Exclui uma tabela"
   ]
  },
  {
   "cell_type": "code",
   "execution_count": 1,
   "metadata": {},
   "outputs": [
    {
     "name": "stdout",
     "output_type": "stream",
     "text": [
      "Tabela normalizado excluída com sucesso (se existia).\n"
     ]
    }
   ],
   "source": [
    "from Funcs.db import drop_table\n",
    "\n",
    "drop_table(\"videos_data.db\", \"normalizado\")"
   ]
  },
  {
   "cell_type": "markdown",
   "metadata": {},
   "source": [
    "#### Retorna dados"
   ]
  },
  {
   "cell_type": "code",
   "execution_count": 1,
   "metadata": {},
   "outputs": [
    {
     "name": "stdout",
     "output_type": "stream",
     "text": [
      "('z8T29GYPlVM', 'https://www.youtube.com/watch?v=z8T29GYPlVM', 'hi', 154747, 2163, 6632469)\n"
     ]
    }
   ],
   "source": [
    "from Funcs.db import get_data_by_video_id\n",
    "\n",
    "data = get_data_by_video_id('videos_data.db', 'links', 'z8T29GYPlVM')\n",
    "for row in data:\n",
    "    print(row)"
   ]
  },
  {
   "cell_type": "markdown",
   "metadata": {},
   "source": [
    "#### Adiciona uma nova coluna na tabela"
   ]
  },
  {
   "cell_type": "code",
   "execution_count": 2,
   "metadata": {},
   "outputs": [
    {
     "name": "stdout",
     "output_type": "stream",
     "text": [
      "Coluna 'captions_normalizado' adicionada com sucesso!\n"
     ]
    }
   ],
   "source": [
    "from Funcs.db import new_collumn\n",
    "\n",
    "new_collumn('videos_data.db','captions','captions_normalizado','TEXT')"
   ]
  }
 ],
 "metadata": {
  "kernelspec": {
   "display_name": ".venv",
   "language": "python",
   "name": "python3"
  },
  "language_info": {
   "codemirror_mode": {
    "name": "ipython",
    "version": 3
   },
   "file_extension": ".py",
   "mimetype": "text/x-python",
   "name": "python",
   "nbconvert_exporter": "python",
   "pygments_lexer": "ipython3",
   "version": "3.11.3"
  }
 },
 "nbformat": 4,
 "nbformat_minor": 2
}
