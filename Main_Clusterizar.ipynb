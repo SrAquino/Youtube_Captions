{
 "cells": [
  {
   "cell_type": "markdown",
   "metadata": {},
   "source": [
    "#### Normaliza o texto [transcrições]"
   ]
  },
  {
   "cell_type": "code",
   "execution_count": 3,
   "metadata": {},
   "outputs": [
    {
     "name": "stdout",
     "output_type": "stream",
     "text": [
      "Erro ao adicionar coluna: duplicate column name: transcription_normalizado\n"
     ]
    }
   ],
   "source": [
    "from Funcs.tratamentoDeTexto import normalize_text\n",
    "from Funcs.getPaths import get_Paths\n",
    "from Funcs.db import get_languange, get_data, update_data\n",
    "\n",
    "from Funcs.db import new_collumn\n",
    "new_collumn('videos_data.db','transcribes','transcription_normalizado','TEXT')\n",
    "\n",
    "paths = get_Paths('Videos')\n",
    "for path in paths:\n",
    "    id = path.split(\"\\\\\")[-1]\n",
    "    normal = normalize_text(get_data('videos_data.db','transcribes','transcription',id)[0][1],get_languange('videos_data.db','links',id)[0])\n",
    "    update_data('videos_data.db','transcribes','transcription_normalizado',id,normal)\n",
    "\n",
    "\n",
    "\n"
   ]
  },
  {
   "cell_type": "markdown",
   "metadata": {},
   "source": [
    "#### Normaliza o texto [captions]"
   ]
  },
  {
   "cell_type": "code",
   "execution_count": null,
   "metadata": {},
   "outputs": [],
   "source": [
    "from Funcs.tratamentoDeTexto import normalize_text\n",
    "from Funcs.getPaths import get_Paths\n",
    "from Funcs.db import get_data, update_data\n",
    "\n",
    "from Funcs.db import new_collumn\n",
    "new_collumn('videos_data.db','captions','captions_normalizado','TEXT')\n",
    "\n",
    "paths = get_Paths('Videos')\n",
    "for path in paths:\n",
    "    id = path.split(\"\\\\\")[-1]\n",
    "    frames = get_data('videos_data.db','captions','caption',id)\n",
    "    for frame in frames:\n",
    "        #print('id: '+frame[0])\n",
    "        #print('caption: '+frame[1])\n",
    "        normal = normalize_text(frame[1],'en')\n",
    "        update_data('videos_data.db','captions','captions_normalizado',frame[0],normal)\n",
    "    \n",
    "\n",
    "\n",
    "\n",
    "\n"
   ]
  }
 ],
 "metadata": {
  "kernelspec": {
   "display_name": ".venv",
   "language": "python",
   "name": "python3"
  },
  "language_info": {
   "codemirror_mode": {
    "name": "ipython",
    "version": 3
   },
   "file_extension": ".py",
   "mimetype": "text/x-python",
   "name": "python",
   "nbconvert_exporter": "python",
   "pygments_lexer": "ipython3",
   "version": "3.11.3"
  }
 },
 "nbformat": 4,
 "nbformat_minor": 2
}
