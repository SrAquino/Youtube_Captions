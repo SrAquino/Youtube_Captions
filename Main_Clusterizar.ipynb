{
 "cells": [
  {
   "cell_type": "markdown",
   "metadata": {},
   "source": [
    "#### Normaliza o texto [transcrições]"
   ]
  },
  {
   "cell_type": "code",
   "execution_count": null,
   "metadata": {},
   "outputs": [],
   "source": [
    "from Funcs.tratamentoDeTexto import normalize_text\n",
    "from Funcs.getPaths import get_Paths\n",
    "from Funcs.db import get_languange, get_data, update_data\n",
    "\n",
    "from Funcs.db import new_collumn\n",
    "new_collumn('videos_data.db','transcribes','transcription_normalizado','TEXT')\n",
    "\n",
    "paths = get_Paths('Videos')\n",
    "for path in paths:\n",
    "    id = path.split(\"\\\\\")[-1]\n",
    "    normal = normalize_text(get_data('videos_data.db','transcribes','transcription',id)[0][1],get_languange('videos_data.db','links',id)[0])\n",
    "    update_data('videos_data.db','transcribes','transcription_normalizado',id,normal)\n",
    "\n",
    "\n",
    "\n"
   ]
  },
  {
   "cell_type": "markdown",
   "metadata": {},
   "source": [
    "#### Normaliza o texto [captions]"
   ]
  },
  {
   "cell_type": "code",
   "execution_count": null,
   "metadata": {},
   "outputs": [],
   "source": [
    "from Funcs.tratamentoDeTexto import normalize_text\n",
    "from Funcs.getPaths import get_Paths\n",
    "from Funcs.db import get_data, update_data\n",
    "\n",
    "from Funcs.db import new_collumn\n",
    "new_collumn('videos_data.db','captions','captions_normalizado','TEXT')\n",
    "\n",
    "paths = get_Paths('Videos')\n",
    "for path in paths:\n",
    "    id = path.split(\"\\\\\")[-1]\n",
    "    frames = get_data('videos_data.db','captions','caption',id)\n",
    "    for frame in frames:\n",
    "        #print('id: '+frame[0])\n",
    "        #print('caption: '+frame[1])\n",
    "        normal = normalize_text(frame[1],'en')\n",
    "        update_data('videos_data.db','captions','captions_normalizado',frame[0],normal)\n",
    "    \n",
    "\n",
    "\n",
    "\n",
    "\n"
   ]
  },
  {
   "cell_type": "markdown",
   "metadata": {},
   "source": [
    "#### Vetorizar [captions]"
   ]
  },
  {
   "cell_type": "code",
   "execution_count": null,
   "metadata": {},
   "outputs": [],
   "source": [
    "# Adicionar todas as strings em uma única variável\n",
    "\n",
    "from Funcs.db import get_data, push_data\n",
    "from Funcs.getPaths import get_Paths\n",
    "from sklearn.feature_extraction.text import TfidfVectorizer\n",
    "import json\n",
    "\n",
    "#all_captionsNids = []\n",
    "ids = []\n",
    "textos = []\n",
    "paths = get_Paths('Videos')\n",
    "for path in paths:\n",
    "    id = path.split(\"\\\\\")[-1]   # Videos\\\\<id>\n",
    "    \n",
    "    frames_with_id = get_data('videos_data.db','captions','captions_normalizado',id)    # Retorna um conjunto de frames do video <id> o id do frame + a caption normalizada \n",
    "    aux_ids, aux_captions = zip(*frames_with_id)\n",
    "\n",
    "    ids.extend(aux_ids)\n",
    "    textos.extend(aux_captions)\n",
    "\n",
    "\n",
    "vectorizer = TfidfVectorizer()\n",
    "vetores = vectorizer.fit_transform(textos)\n",
    "\n",
    "data_to_save = []\n",
    "for idx, id_ in enumerate(ids):\n",
    "    vector_data = vetores[idx].tocoo()\n",
    "\n",
    "    vector_elements = [\n",
    "        ((int(idx), int(col)), float(data))\n",
    "        for (row, col), data in zip(zip(vector_data.row, vector_data.col), vector_data.data)\n",
    "    ]\n",
    "    data_to_save.append({\n",
    "        'id': id_,\n",
    "        'vector': vector_elements\n",
    "    })\n",
    "\n",
    "for item in data_to_save:\n",
    "    video_id = item['id'].split(\"_\")[0]\n",
    "    vector_json = json.dumps(item['vector'])\n",
    "    push_data('videos_data.db', 'textos_vetorizados', 'vetor', item['id'], vector_json, video_id)"
   ]
  },
  {
   "cell_type": "markdown",
   "metadata": {},
   "source": [
    "#### Vetorizar [transcrições]"
   ]
  },
  {
   "cell_type": "code",
   "execution_count": 7,
   "metadata": {},
   "outputs": [],
   "source": [
    "# Adicionar todas as strings em uma única variável\n",
    "\n",
    "from Funcs.db import get_data, push_data\n",
    "from Funcs.getPaths import get_Paths\n",
    "from sklearn.feature_extraction.text import TfidfVectorizer\n",
    "\n",
    "\n",
    "#all_captionsNids = []\n",
    "ids = []\n",
    "textos = []\n",
    "paths = get_Paths('Videos')\n",
    "for path in paths:\n",
    "    id = path.split(\"\\\\\")[-1]   # Videos\\\\<id>\n",
    "    \n",
    "    trancript_with_id = get_data('videos_data.db','transcribes','transcription_normalizado',id)    # Retorna um conjunto de transcrições com id\n",
    "    aux_ids, aux_transcript = zip(*trancript_with_id)\n",
    "   \n",
    "    ids.append(aux_ids[0])\n",
    "    textos.append(aux_transcript[0])\n",
    "\n",
    "vectorizer = TfidfVectorizer()\n",
    "vetores = vectorizer.fit_transform(textos)\n",
    "\n",
    "vectors_with_ids = {id_: vetores[idx] for idx, id_ in enumerate(ids)}\n",
    "\n",
    "for frame in vectors_with_ids:\n",
    "    push_data('videos_data.db','textos_vetorizados','vetor',frame,str(vectors_with_ids[frame].toarray().tolist()),frame)"
   ]
  },
  {
   "cell_type": "markdown",
   "metadata": {},
   "source": [
    "#### Clusteriza"
   ]
  },
  {
   "cell_type": "code",
   "execution_count": null,
   "metadata": {},
   "outputs": [],
   "source": [
    "%pip install pandas"
   ]
  },
  {
   "cell_type": "code",
   "execution_count": null,
   "metadata": {},
   "outputs": [],
   "source": [
    "from sklearn.cluster import KMeans\n",
    "from sklearn.preprocessing import MinMaxScaler\n",
    "import pandas as pd\n",
    "import numpy as np\n",
    "import ast\n",
    "from scipy.sparse import csr_matrix\n",
    "\n",
    "from Funcs.db import get_data_by_video_id, get_data\n",
    "from Funcs.getPaths import get_Paths\n",
    "\n",
    "rows = []\n",
    "cols = []\n",
    "values = []\n",
    "ids = []\n",
    "\n",
    "paths = get_Paths('Videos')\n",
    "for path in paths:\n",
    "    id = path.split(\"\\\\\")[-1]   # Videos\\\\<id>\n",
    "\n",
    "    for id_, vector_data in get_data('videos_data.db','textos_vetorizados','vetor',id):\n",
    "        vector_data = ast.literal_eval(vector_data)\n",
    "        ids.append(id_)\n",
    "        \n",
    "        for (row, col), value in vector_data:\n",
    "            rows.append(row)\n",
    "            cols.append(col)\n",
    "            values.append(value)\n",
    "\n",
    "\n",
    "# Crie a matriz esparsa\n",
    "sparse_matrix = csr_matrix((values, (rows, cols)))\n",
    "\n",
    "# Número de clusters\n",
    "num_clusters = 5\n",
    "\n",
    "# Realizar a clusterização\n",
    "kmeans = KMeans(n_clusters=num_clusters, random_state=42)\n",
    "kmeans.fit(sparse_matrix)\n",
    "\n",
    "# Obter os rótulos dos clusters\n",
    "labels = kmeans.labels_\n",
    "\n",
    "# Associar os IDs aos rótulos dos clusters\n",
    "clusters_with_ids = {id_: label for id_, label in zip(ids, labels)}\n",
    "\n",
    "print(clusters_with_ids) \n",
    "       \n",
    "            \n",
    "\n",
    "\n",
    "\n",
    "    "
   ]
  },
  {
   "cell_type": "markdown",
   "metadata": {},
   "source": [
    "#### Visualizar em txt"
   ]
  },
  {
   "cell_type": "code",
   "execution_count": 48,
   "metadata": {},
   "outputs": [],
   "source": [
    "\n",
    "\n",
    "import json\n",
    "import numpy as np\n",
    "\n",
    "# Custom JSON encoder to handle numpy data types\n",
    "class NumpyEncoder(json.JSONEncoder):\n",
    "    def default(self, obj):\n",
    "        if isinstance(obj, np.integer):\n",
    "            return int(obj)\n",
    "        elif isinstance(obj, np.floating):\n",
    "            return float(obj)\n",
    "        elif isinstance(obj, np.ndarray):\n",
    "            return obj.tolist()\n",
    "        else:\n",
    "            return super(NumpyEncoder, self).default(obj)\n",
    "\n",
    "# Salvar saída em arquivo .txt\n",
    "with open(\"saida.txt\", \"w\") as file:\n",
    "    file.write(json.dumps(clusters_with_ids, cls=NumpyEncoder))  # Salvar lista como texto legível\n"
   ]
  }
 ],
 "metadata": {
  "kernelspec": {
   "display_name": ".venv",
   "language": "python",
   "name": "python3"
  },
  "language_info": {
   "codemirror_mode": {
    "name": "ipython",
    "version": 3
   },
   "file_extension": ".py",
   "mimetype": "text/x-python",
   "name": "python",
   "nbconvert_exporter": "python",
   "pygments_lexer": "ipython3",
   "version": "3.11.3"
  }
 },
 "nbformat": 4,
 "nbformat_minor": 2
}
