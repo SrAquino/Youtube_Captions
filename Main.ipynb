{
 "cells": [
  {
   "cell_type": "markdown",
   "metadata": {},
   "source": [
    "#### Busca os links no youtube usando um gerador de strings com a estratégia PICO"
   ]
  },
  {
   "cell_type": "code",
   "execution_count": null,
   "metadata": {},
   "outputs": [],
   "source": [
    "from Funcs.tratamentoDeVideo import get_youtube_video_links\n",
    "from Funcs.db import push_links_into_db\n",
    "\n",
    "#video_links = {}\n",
    "MAX_RESULT = 2\n",
    "\n",
    "\n",
    "def busca_pico(p, i, c, o):\n",
    "    cont = 0\n",
    "    for individo in p:\n",
    "        for method in i:\n",
    "            for object in c:\n",
    "                for effect in o:\n",
    "                    print(f'{individo} {method} {object} {effect}')\n",
    "                    try:\n",
    "                        links = get_youtube_video_links(f'{individo} {method} {object} {effect}',MAX_RESULT)\n",
    "                        cont += 1\n",
    "                        print(cont)\n",
    "                        # Salva os links gerados na tabela de links do db videos_data\n",
    "                        push_links_into_db('videos_data.db','links',links)\n",
    "                    except Exception as e:\n",
    "                        print(f\"<><><> Erro ao buscar link no youtube: {e}\")\n",
    "                        return\n",
    "\n"
   ]
  },
  {
   "cell_type": "markdown",
   "metadata": {},
   "source": [
    "#### Faz a busca dos links no youtube em Inglês"
   ]
  },
  {
   "cell_type": "code",
   "execution_count": null,
   "metadata": {},
   "outputs": [],
   "source": [
    "population = ['Teach', 'Science', 'Technology', 'Engineer', 'Mathematics']\n",
    "intervention = ['Microcontrollers', 'STEM Maker', 'Sensors', 'Do it your self']\n",
    "comparison = ['STEM Maker','Traditional teaching method']\n",
    "outcome = ['']\n",
    "\n",
    "busca_pico(population, intervention, comparison, outcome)"
   ]
  },
  {
   "cell_type": "markdown",
   "metadata": {},
   "source": [
    "#### Faz a busca dos links no youtube em Português"
   ]
  },
  {
   "cell_type": "code",
   "execution_count": null,
   "metadata": {},
   "outputs": [],
   "source": [
    "population = ['Ensinar', 'Ciência', 'Tecnologia', 'Engenharia', 'Matemática']\n",
    "intervention = ['STEM Maker', 'Microcontroladores', 'Sensores', 'Faça você mesmo']\n",
    "comparison = ['STEM Maker','Método tradicional de ensino']\n",
    "outcome = ['']\n",
    "\n",
    "busca_pico(population, intervention, comparison, outcome)"
   ]
  },
  {
   "cell_type": "markdown",
   "metadata": {},
   "source": [
    "#### Faz buscas menores, apenas para teste"
   ]
  },
  {
   "cell_type": "code",
   "execution_count": null,
   "metadata": {},
   "outputs": [],
   "source": [
    "population = ['Ensinar', 'Teach']\n",
    "intervention = ['Microcontroladores']\n",
    "comparison = ['STEM Maker','Método tradicional de ensino']\n",
    "outcome = ['']\n",
    "\n",
    "#busca_pico(population, intervention, comparison, outcome)"
   ]
  },
  {
   "cell_type": "markdown",
   "metadata": {},
   "source": [
    "#### Faz o download do vídeo\n",
    "> Para retirada da transcrição do audio, screenshots e descritor das screenshots"
   ]
  },
  {
   "cell_type": "code",
   "execution_count": null,
   "metadata": {},
   "outputs": [],
   "source": [
    "from Funcs.tratamentoDeVideo import download_video\n",
    "from Funcs.db import fetch_links_from_db\n",
    "import asyncio\n",
    "from concurrent.futures import ThreadPoolExecutor\n",
    "\n",
    "async def download_videos_concurrently():\n",
    "    links = fetch_links_from_db('videos_data.db', 'links')\n",
    "    \n",
    "    # Usar ThreadPoolExecutor para baixar vídeos em paralelo\n",
    "    with ThreadPoolExecutor(max_workers=12) as executor:  # max_workers define o número de threads\n",
    "        loop = asyncio.get_event_loop()\n",
    "        tasks = []\n",
    "        \n",
    "        for url in links:\n",
    "            tasks.append(loop.run_in_executor(executor, download_video, url))\n",
    "        \n",
    "        # Aguardar a conclusão de todos os downloads\n",
    "        await asyncio.gather(*tasks)\n",
    "\n",
    "if __name__ == '__main__':\n",
    "    try:\n",
    "        asyncio.run(download_videos_concurrently())\n",
    "    except RuntimeError:\n",
    "        # Caso o erro aconteça, significa que estamos em um loop de eventos ativo\n",
    "        # Nesse caso, usaremos o loop de eventos atual\n",
    "        loop = asyncio.get_event_loop()\n",
    "        loop.create_task(download_videos_concurrently())\n",
    "\n"
   ]
  },
  {
   "cell_type": "markdown",
   "metadata": {},
   "source": [
    "#### Extrai o audio do vídeo"
   ]
  },
  {
   "cell_type": "code",
   "execution_count": null,
   "metadata": {},
   "outputs": [],
   "source": [
    "import asyncio\n",
    "from concurrent.futures import ThreadPoolExecutor\n",
    "from Funcs.tratamentoDeAudio import extract_audio_from_video\n",
    "from Funcs.getPaths import get_Paths\n",
    "\n",
    "async def extract_audio_concurrently():\n",
    "    # Obtém os caminhos dos vídeos\n",
    "    paths = get_Paths(\"Videos\")\n",
    "    \n",
    "    # Usar ThreadPoolExecutor para rodar a extração de áudio em paralelo\n",
    "    with ThreadPoolExecutor(max_workers=4) as executor:  # Defina max_workers com base no número de threads que você quer\n",
    "        loop = asyncio.get_event_loop()\n",
    "        tasks = []\n",
    "        \n",
    "        for path in paths:\n",
    "            id = path.split(\"\\\\\")[-1]\n",
    "            video_path = f'{path}\\\\{id}.mp4'\n",
    "            audio_path = f'{path}\\\\Audio\\\\{id}.wav'\n",
    "            tasks.append(loop.run_in_executor(executor, extract_audio_from_video, video_path, audio_path))\n",
    "        \n",
    "        # Aguarda a conclusão de todas as extrações de áudio\n",
    "        await asyncio.gather(*tasks)\n",
    "\n",
    "if __name__ == '__main__':\n",
    "    # Verifica se já existe um loop de eventos\n",
    "    try:\n",
    "        # Tenta rodar no loop de eventos atual (caso já exista)\n",
    "        asyncio.run(extract_audio_concurrently())\n",
    "    except RuntimeError:\n",
    "        # Caso o erro aconteça, significa que estamos em um loop de eventos ativo\n",
    "        # Nesse caso, usaremos o loop de eventos atual\n",
    "        loop = asyncio.get_event_loop()\n",
    "        loop.create_task(extract_audio_concurrently())\n"
   ]
  },
  {
   "cell_type": "markdown",
   "metadata": {},
   "source": [
    "#### Particiona o audio para poder fazer as transcrições "
   ]
  },
  {
   "cell_type": "code",
   "execution_count": null,
   "metadata": {},
   "outputs": [],
   "source": [
    "import asyncio\n",
    "from concurrent.futures import ThreadPoolExecutor\n",
    "from Funcs.tratamentoDeAudio import split_audio_by_size\n",
    "from Funcs.getPaths import get_Paths\n",
    "\n",
    "async def split_audio_concurrently():\n",
    "    # Obtém os caminhos dos vídeos\n",
    "    paths = get_Paths(\"Videos\")\n",
    "    \n",
    "    # Usar ThreadPoolExecutor para rodar a divisão de áudio em paralelo\n",
    "    with ThreadPoolExecutor(max_workers=12) as executor:  # Defina max_workers com base no número de threads que você quer\n",
    "        loop = asyncio.get_event_loop()\n",
    "        tasks = []\n",
    "        \n",
    "        for path in paths:\n",
    "            id = path.split(\"\\\\\")[-1]\n",
    "            audio_path = f'{path}\\\\Audio\\\\{id}.wav'\n",
    "            splits_path = f'{path}\\\\Audio\\\\Splits'\n",
    "            tasks.append(loop.run_in_executor(executor, split_audio_by_size, audio_path, 9, splits_path))\n",
    "        \n",
    "        # Aguarda a conclusão de todas as divisões de áudio\n",
    "        await asyncio.gather(*tasks)\n",
    "\n",
    "if __name__ == '__main__':\n",
    "    # Verifica se já existe um loop de eventos\n",
    "    try:\n",
    "        # Tenta rodar no loop de eventos atual (caso já exista)\n",
    "        asyncio.run(split_audio_concurrently())\n",
    "    except RuntimeError:\n",
    "        # Caso o erro aconteça, significa que estamos em um loop de eventos ativo\n",
    "        # Nesse caso, usaremos o loop de eventos atual\n",
    "        loop = asyncio.get_event_loop()\n",
    "        loop.create_task(split_audio_concurrently())\n"
   ]
  },
  {
   "cell_type": "markdown",
   "metadata": {},
   "source": [
    "#### Realiza a transcrição de cada split de audio e salva no bd"
   ]
  },
  {
   "cell_type": "code",
   "execution_count": null,
   "metadata": {},
   "outputs": [],
   "source": [
    "from concurrent.futures import ThreadPoolExecutor\n",
    "from queue import Queue\n",
    "from Funcs.tratamentoDeAudio import transcribe_audio\n",
    "from Funcs.getPaths import get_Paths\n",
    "from Funcs.db import push_transcribes_into_db, get_languange\n",
    "import threading\n",
    "\n",
    "# Fila para armazenar os resultados das transcrições\n",
    "results_queue = Queue()\n",
    "\n",
    "def process_video(path):\n",
    "    \"\"\"Função para processar um único vídeo.\"\"\"\n",
    "    id = path.split(\"\\\\\")[-1]\n",
    "    video_transcription = ''\n",
    "\n",
    "    for chunk in get_Paths(path + '\\\\Audio\\\\Splits'):\n",
    "        video_language = get_languange('videos_data.db', 'links', id)[0]\n",
    "        transcription = transcribe_audio(chunk, video_language)\n",
    "        video_transcription += ' ' + transcription\n",
    "\n",
    "    # Enviar o resultado para a fila\n",
    "    results_queue.put((id, video_transcription))\n",
    "\n",
    "def db_writer(database_path, table_name):\n",
    "    \"\"\"Thread para escrever os resultados no banco de dados.\"\"\"\n",
    "    while True:\n",
    "        # Obter dados da fila\n",
    "        data = results_queue.get()\n",
    "\n",
    "        # Sair do loop quando a fila está vazia e todos os trabalhos estão concluídos\n",
    "        if data is None:\n",
    "            break\n",
    "\n",
    "        # Desempacotar os dados\n",
    "        id, video_transcription = data\n",
    "\n",
    "        # Escrever no banco de dados\n",
    "        push_transcribes_into_db(database_path, table_name, video_transcription, id)\n",
    "\n",
    "def main():\n",
    "    # Caminhos para processar\n",
    "    video_paths = get_Paths(\"Videos\")\n",
    "\n",
    "    # Thread para escrita no banco de dados\n",
    "    db_thread = threading.Thread(target=db_writer, args=('videos_data.db', 'transcribes'))\n",
    "    db_thread.start()\n",
    "\n",
    "    # Executor para processar vídeos em paralelo\n",
    "    with ThreadPoolExecutor(max_workers=12) as executor:\n",
    "        for path in video_paths:\n",
    "            executor.submit(process_video, path)\n",
    "\n",
    "    # Finalizar a thread de banco de dados\n",
    "    results_queue.put(None)  # Sinalizar término\n",
    "    db_thread.join()\n",
    "\n",
    "if __name__ == \"__main__\":\n",
    "    main()\n"
   ]
  },
  {
   "cell_type": "markdown",
   "metadata": {},
   "source": [
    "#### Realiza as screenshots do vídeo para receberem uma caption"
   ]
  },
  {
   "cell_type": "code",
   "execution_count": null,
   "metadata": {},
   "outputs": [],
   "source": [
    "from concurrent.futures import ThreadPoolExecutor\n",
    "from Funcs.tratamentoDeImg import make_ScreenShots\n",
    "from Funcs.getPaths import get_Paths\n",
    "\n",
    "def process_video(path):\n",
    "    \"\"\"Função para processar capturas de tela de um vídeo.\"\"\"\n",
    "    id = path.split(\"\\\\\")[-1]\n",
    "    make_ScreenShots(path + '/' + id + '.mp4', path + '/Screenshots', 10)\n",
    "\n",
    "def main():\n",
    "    # Obter todos os caminhos dos vídeos\n",
    "    video_paths = get_Paths(\"Videos\")\n",
    "\n",
    "    # Usar um ThreadPoolExecutor para processar os vídeos em paralelo\n",
    "    with ThreadPoolExecutor(max_workers=12) as executor:  # Ajuste max_workers conforme necessário\n",
    "        executor.map(process_video, video_paths)\n",
    "\n",
    "if __name__ == \"__main__\":\n",
    "    main()\n"
   ]
  },
  {
   "cell_type": "markdown",
   "metadata": {},
   "source": [
    "#### Gera uma caption para cada screenshot e salva no bd"
   ]
  },
  {
   "cell_type": "code",
   "execution_count": null,
   "metadata": {},
   "outputs": [],
   "source": [
    "from concurrent.futures import ThreadPoolExecutor, as_completed\n",
    "from Funcs.tratamentoDeImg import generate_caption\n",
    "from Funcs.getPaths import get_Paths\n",
    "from Funcs.db import push_caption_into_db\n",
    "\n",
    "def process_screenshot(ss, video_id):\n",
    "    \"\"\"Processa uma captura de tela e retorna a legenda.\"\"\"\n",
    "    caption = generate_caption(ss)\n",
    "    screenshot_id = ss.split(\"\\\\\")[-1]\n",
    "    return caption, video_id, screenshot_id\n",
    "\n",
    "def main():\n",
    "    database_path = 'videos_data.db'\n",
    "    table_name = 'captions'\n",
    "    video_paths = get_Paths(\"Videos\")\n",
    "\n",
    "    # Configurar ThreadPoolExecutor\n",
    "    max_workers = 12  # Ajuste conforme o hardware disponível\n",
    "    with ThreadPoolExecutor(max_workers=max_workers) as executor:\n",
    "        futures = []\n",
    "\n",
    "        # Agendar tarefas de geração de legendas\n",
    "        for path in video_paths:\n",
    "            video_id = path.split(\"\\\\\")[-1]\n",
    "            screenshot_paths = get_Paths(path + '\\\\Screenshots')\n",
    "            for ss in screenshot_paths:\n",
    "                print(\"Screnshot: \")\n",
    "                print(ss)\n",
    "                futures.append(executor.submit(process_screenshot, ss, video_id))\n",
    "\n",
    "        # Processar resultados conforme as tarefas são concluídas\n",
    "        for future in as_completed(futures):\n",
    "            #print(future)\n",
    "            try:\n",
    "                caption, video_id, screenshot_id = future.result()\n",
    "                 # Inserir no banco de dados\n",
    "                push_caption_into_db(database_path, table_name, caption, video_id, screenshot_id)\n",
    "            except Exception as e:\n",
    "                print(f\"Erro ao processar ou inserir no banco: {e}\")\n",
    "\n",
    "if __name__ == \"__main__\":\n",
    "    main()\n"
   ]
  }
 ],
 "metadata": {
  "kernelspec": {
   "display_name": ".venv",
   "language": "python",
   "name": "python3"
  },
  "language_info": {
   "codemirror_mode": {
    "name": "ipython",
    "version": 3
   },
   "file_extension": ".py",
   "mimetype": "text/x-python",
   "name": "python",
   "nbconvert_exporter": "python",
   "pygments_lexer": "ipython3",
   "version": "3.11.3"
  }
 },
 "nbformat": 4,
 "nbformat_minor": 2
}
